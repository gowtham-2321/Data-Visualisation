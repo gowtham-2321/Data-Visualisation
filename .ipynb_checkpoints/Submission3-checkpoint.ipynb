{
 "cells": [
  {
   "cell_type": "code",
   "execution_count": 1,
   "id": "6b45b6af",
   "metadata": {},
   "outputs": [
    {
     "data": {
      "text/plain": [
       "'\\nIn this task you are to write a mini python library(a python file with defined functions like the \\ncalculator you wrote in the previous class)\\n\\nYou are a Hockey coach of an olympic team. There are 10 players in your team. You need a mini-library that \\nwill help you manage ypur team better.\\n\\n1. Define a dictionary(in ipynb notebook) of your team. The key must be a name and the value must be another dictionary \\nwith four field(keys):- \\n    height - in metres\\n    position(Left Back/Right Back/Middle Back/Goalkeeper/Front Left/Front Right/Front Center, Middle Center, Middle Right, Middle Left)\\n    physique - (explosive, stamina, all-round)\\n    nature - (realist/idealist)\\n    age - in years\\n    \\nExample of two players dictionary is below(you must draft a team of your choice with 10 players)\\n{\"sai\":{\"heigth\":1.6, \"position\":\"Front Left\", \"physique\": \"explosive\", \"nature\":\"idealist\", \"age\":25}\\n, \"aditya\":{\"heigth\":1.5, \"position\":\"Front Center\", \"physique\": \"all-round\", \"nature\":\"realist\", \"age\":23}}\\n\\n2. Write a separate python file \"hockeyTeamManager.py\". In this you must write the following functions:-\\n(a) Get the average height and age of a team.\\n(b) Get number of explosive/stamina/all-rounders you a team.(print in any format you desire)\\n(c) Find the position that two players play(if any)\\n(d) Find the position that no player plays(if any)\\n(e) Find the nature of the team. Based on number of realists and idealist if 70% of the team is of one side then conclude for that side\\n    Example \\n        if 7/10 are idealists then team is idealist.(same for realist)\\n        if 6/10 or 5/10 are idealist or realists then team is a \"mix\"\\n(f) Find the overall physique of the team. The physique that occurs most number of times is the physique of the team\\n(g) If a new player is to be added into the team then find the maximum age allowed so that the average age of the team\\n    does not exceed 24 years.\\n(h) Write a print function to print in a clear way all the players with their respective positions in case coach wants to\\n    review the lineup.(example:  <Name> Plays in position <position>\" )\\n(i) Write a function to find all those athletes who are of a particular physique(take physique as argument to function)\\n(j) Write a function to find all those athletes who are of a particular nature(take nature as argument to function)\\n    Example for above two(i,j)\\n        >hockeyTeamManager.GetPlayersWithPhysique(playerDictionary, physiqueToFilter)\\n        Should print name of players with physique are given in argument(explosive/stamina/all-round)\\n\\n3. Now import this python file into the notebook and use all these functions one after the other.\\nNote: these functions must not be seen anywhere in the notebook. They should be written in the python file which you import into\\nthe notebook.\\n\\n'"
      ]
     },
     "execution_count": 1,
     "metadata": {},
     "output_type": "execute_result"
    }
   ],
   "source": [
    "'''\n",
    "In this task you are to write a mini python library(a python file with defined functions like the \n",
    "calculator you wrote in the previous class)\n",
    "\n",
    "You are a Hockey coach of an olympic team. There are 10 players in your team. You need a mini-library that \n",
    "will help you manage ypur team better.\n",
    "\n",
    "1. Define a dictionary(in ipynb notebook) of your team. The key must be a name and the value must be another dictionary \n",
    "with four field(keys):- \n",
    "    height - in metres\n",
    "    position(Left Back/Right Back/Middle Back/Goalkeeper/Front Left/Front Right/Front Center, Middle Center, Middle Right, Middle Left)\n",
    "    physique - (explosive, stamina, all-round)\n",
    "    nature - (realist/idealist)\n",
    "    age - in years\n",
    "    \n",
    "Example of two players dictionary is below(you must draft a team of your choice with 10 players)\n",
    "{\"sai\":{\"heigth\":1.6, \"position\":\"Front Left\", \"physique\": \"explosive\", \"nature\":\"idealist\", \"age\":25}\n",
    ", \"aditya\":{\"heigth\":1.5, \"position\":\"Front Center\", \"physique\": \"all-round\", \"nature\":\"realist\", \"age\":23}}\n",
    "\n",
    "2. Write a separate python file \"hockeyTeamManager.py\". In this you must write the following functions:-\n",
    "(a) Get the average height and age of a team.\n",
    "(b) Get number of explosive/stamina/all-rounders you a team.(print in any format you desire)\n",
    "(c) Find the position that two players play(if any)\n",
    "(d) Find the position that no player plays(if any)\n",
    "(e) Find the nature of the team. Based on number of realists and idealist if 70% of the team is of one side then conclude for that side\n",
    "    Example \n",
    "        if 7/10 are idealists then team is idealist.(same for realist)\n",
    "        if 6/10 or 5/10 are idealist or realists then team is a \"mix\"\n",
    "(f) Find the overall physique of the team. The physique that occurs most number of times is the physique of the team\n",
    "(g) If a new player is to be added into the team then find the maximum age allowed so that the average age of the team\n",
    "    does not exceed 24 years.\n",
    "(h) Write a print function to print in a clear way all the players with their respective positions in case coach wants to\n",
    "    review the lineup.(example:  <Name> Plays in position <position>\" )\n",
    "(i) Write a function to find all those athletes who are of a particular physique(take physique as argument to function)\n",
    "(j) Write a function to find all those athletes who are of a particular nature(take nature as argument to function)\n",
    "    Example for above two(i,j)\n",
    "        >hockeyTeamManager.GetPlayersWithPhysique(playerDictionary, physiqueToFilter)\n",
    "        Should print name of players with physique are given in argument(explosive/stamina/all-round)\n",
    "\n",
    "3. Now import this python file into the notebook and use all these functions one after the other.\n",
    "Note: these functions must not be seen anywhere in the notebook. They should be written in the python file which you import into\n",
    "the notebook.\n",
    "\n",
    "'''\n"
   ]
  },
  {
   "cell_type": "code",
   "execution_count": null,
   "id": "0712abfa-49cc-40e2-b790-765fc4b6cf6d",
   "metadata": {},
   "outputs": [],
   "source": []
  }
 ],
 "metadata": {
  "kernelspec": {
   "display_name": "Python 3 (ipykernel)",
   "language": "python",
   "name": "python3"
  },
  "language_info": {
   "codemirror_mode": {
    "name": "ipython",
    "version": 3
   },
   "file_extension": ".py",
   "mimetype": "text/x-python",
   "name": "python",
   "nbconvert_exporter": "python",
   "pygments_lexer": "ipython3",
   "version": "3.12.3"
  }
 },
 "nbformat": 4,
 "nbformat_minor": 5
}
